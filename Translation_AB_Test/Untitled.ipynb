{
 "cells": [
  {
   "cell_type": "code",
   "execution_count": 2,
   "metadata": {},
   "outputs": [
    {
     "data": {
      "text/plain": [
       "Ttest_indResult(statistic=-7.382252163053967, pvalue=1.5593292778816856e-13)"
      ]
     },
     "execution_count": 2,
     "metadata": {},
     "output_type": "execute_result"
    }
   ],
   "source": [
    "import numpy as np\n",
    "import scipy.stats as ss\n",
    "import pandas as pd\n",
    "import matplotlib.pyplot as plt\n",
    "plt.style.use('ggplot')\n",
    "\n",
    "from scipy.stats import norm\n",
    "\n",
    "dfexperiment = pd.read_csv('data/test_table.csv',index_col='user_id')\n",
    "dfuser = pd.read_csv('data/user_table.csv',index_col=\"user_id\")\n",
    "dataframe = dfuser.join(dfexperiment)\n",
    "\n",
    "df_no_spain = dataframe.loc[dataframe.country != 'Spain',:]\n",
    "df_no_spain.groupby(\"test\")[[\"conversion\"]].mean()\n",
    "#       conversion\n",
    "# test\n",
    "# 0       0.048292\n",
    "# 1       0.043411\n",
    "\n",
    "conv_in_test = df_no_spain.loc[dfexperiment.test==1,\"conversion\"]\n",
    "conv_in_ctrl = df_no_spain.loc[dfexperiment.test==0,\"conversion\"]\n",
    "\n",
    "ss.ttest_ind(conv_in_test,conv_in_ctrl)\n",
    "# Ttest_indResult(statistic=-7.382252163053967, pvalue=1.5593292778816856e-13)"
   ]
  },
  {
   "cell_type": "code",
   "execution_count": null,
   "metadata": {},
   "outputs": [],
   "source": []
  }
 ],
 "metadata": {
  "kernelspec": {
   "display_name": "Python 3",
   "language": "python",
   "name": "python3"
  },
  "language_info": {
   "codemirror_mode": {
    "name": "ipython",
    "version": 3
   },
   "file_extension": ".py",
   "mimetype": "text/x-python",
   "name": "python",
   "nbconvert_exporter": "python",
   "pygments_lexer": "ipython3",
   "version": "3.7.5"
  }
 },
 "nbformat": 4,
 "nbformat_minor": 2
}
